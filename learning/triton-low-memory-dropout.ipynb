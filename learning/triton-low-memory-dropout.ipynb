{
 "cells": [
  {
   "cell_type": "code",
   "execution_count": 2,
   "metadata": {},
   "outputs": [],
   "source": [
    "import torch\n",
    "import triton\n",
    "import triton.language as tl\n",
    "\n",
    "\n",
    "@triton.jit\n",
    "def _layer_norm_fwd_kernel(\n",
    "    X, Y, W, B, Mean, Rstd, stride, N, eps, BLOCK_SIZE: tl.constexpr\n",
    "):\n",
    "    row = tl.program_id(0)\n",
    "    Y += row * stride\n",
    "    X += row * stride\n",
    "    mean = 0\n",
    "    _mean = tl.zeros((BLOCK_SIZE,), dtype=tl.float32)\n",
    "    for off in range(0, N, BLOCK_SIZE):\n",
    "        cols = off + tl.arange(0, BLOCK_SIZE)\n",
    "        a = tl.load(X + cols, mask=cols < N, other=0.0).to(tl.float32)\n",
    "        _mean += a\n",
    "    mean = tl.sum(_mean, axis=0) / N\n",
    "\n",
    "    _var = tl.zeros([BLOCK_SIZE], dtype=tl.float32)\n",
    "    for off in range(0, N, BLOCK_SIZE):\n",
    "        cols = off + tl.arange(0, BLOCK_SIZE)\n",
    "        x = tl.load(X + cols, mask=cols < N, other=0.0).to(tl.float32)\n",
    "        x = tl.where(cols < N, x - mean, 0.0)\n",
    "        _var += x * x\n",
    "    var = tl.sum(_var, axis=0) / N\n",
    "    rstd = 1 / tl.sqrt(var + eps)\n",
    "    tl.store(Rstd + row, rstd)\n",
    "    tl.store(Mean + row, mean)\n",
    "\n",
    "    for off in range(0, N, BLOCK_SIZE):\n",
    "        cols = off + tl.arange(0, BLOCK_SIZE)\n",
    "        mask = cols < N\n",
    "        w = tl.load(W + cols, mask=mask, other=0.0).to(tl.float32)\n",
    "        b = tl.load(B + cols, mask=mask, other=0.0).to(tl.float32)\n",
    "        x = tl.load(X + cols, mask=mask, other=0.0).to(tl.float32)\n",
    "        x_hat = (x - mean) * rstd\n",
    "        y = w * x_hat + b\n",
    "        tl.store(Y + cols, y, mask=mask)\n"
   ]
  },
  {
   "cell_type": "code",
   "execution_count": 5,
   "metadata": {},
   "outputs": [
    {
     "data": {
      "text/plain": [
       "(torch.Size([2, 2]), torch.Size([6, 2]))"
      ]
     },
     "execution_count": 5,
     "metadata": {},
     "output_type": "execute_result"
    }
   ],
   "source": [
    "y = torch.tensor([[1, 2], [3, 4]])\n",
    "y.shape, torch.repeat_interleave(y, 3, dim=0).shape\n"
   ]
  },
  {
   "cell_type": "code",
   "execution_count": null,
   "metadata": {},
   "outputs": [],
   "source": []
  }
 ],
 "metadata": {
  "kernelspec": {
   "display_name": ".venv",
   "language": "python",
   "name": "python3"
  },
  "language_info": {
   "codemirror_mode": {
    "name": "ipython",
    "version": 3
   },
   "file_extension": ".py",
   "mimetype": "text/x-python",
   "name": "python",
   "nbconvert_exporter": "python",
   "pygments_lexer": "ipython3",
   "version": "3.10.4"
  }
 },
 "nbformat": 4,
 "nbformat_minor": 2
}
